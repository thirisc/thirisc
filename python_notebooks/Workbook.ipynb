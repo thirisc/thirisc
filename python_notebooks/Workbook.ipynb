{
 "cells": [
  {
   "cell_type": "code",
   "execution_count": null,
   "id": "f9ec7e6a",
   "metadata": {},
   "outputs": [],
   "source": [
    "import pandas as pd\n",
    "import altair as alt\n",
    "\n",
    "df = pd.read_csv(\"https://raw.githubusercontent.com/UIUC-iSchool-DataViz/is445_data/main/licenses_fall2022.csv\")\n",
    "df['License Type'].nunique()"
   ]
  },
  {
   "cell_type": "code",
   "execution_count": null,
   "id": "d3260a0b",
   "metadata": {},
   "outputs": [],
   "source": [
    "df.columns"
   ]
  },
  {
   "cell_type": "code",
   "execution_count": null,
   "id": "889dc4eb",
   "metadata": {},
   "outputs": [],
   "source": [
    "state_to_region = {\n",
    "    # Pacific\n",
    "    'CA': 'Pacific', 'OR': 'Pacific', 'WA': 'Pacific',\n",
    "\n",
    "    # West - Actually I mean the Inland West because they are geographically and culturally different from the Pacific west coast \n",
    "    'AZ': 'West', 'CO': 'West', 'ID': 'West', 'MT': 'West', 'NV': 'West',\n",
    "    'NM': 'West', 'UT': 'West', 'WY': 'West',\n",
    "\n",
    "    # Northeast\n",
    "    'CT': 'Northeast', 'ME': 'Northeast', 'MA': 'Northeast', 'NH': 'Northeast',\n",
    "    'RI': 'Northeast', 'VT': 'Northeast', 'NJ': 'Northeast', 'NY': 'Northeast', 'PA': 'Northeast',\n",
    "\n",
    "    # Midwest\n",
    "    'IL': 'Midwest', 'IN': 'Midwest', 'IA': 'Midwest', 'KS': 'Midwest', 'MI': 'Midwest',\n",
    "    'MN': 'Midwest', 'MO': 'Midwest', 'NE': 'Midwest', 'ND': 'Midwest', 'OH': 'Midwest',\n",
    "    'SD': 'Midwest', 'WI': 'Midwest',\n",
    "\n",
    "    # South\n",
    "    'AL': 'South', 'AR': 'South', 'DE': 'South', 'DC': 'South', 'FL': 'South',\n",
    "    'GA': 'South', 'KY': 'South', 'LA': 'South', 'MD': 'South', 'MS': 'South',\n",
    "    'NC': 'South', 'OK': 'South', 'SC': 'South', 'TN': 'South', 'TX': 'South',\n",
    "    'VA': 'South', 'WV': 'South',\n",
    "\n",
    "    # Alaska and Hawaii\n",
    "    'AK': 'Alaska-Hawaii',\n",
    "    'HI': 'Alaska-Hawaii'\n",
    "}\n",
    "df['Region'] = df['State'].map(state_to_region)"
   ]
  },
  {
   "cell_type": "code",
   "execution_count": null,
   "id": "76998f57",
   "metadata": {},
   "outputs": [],
   "source": [
    "df['Region'].value_counts()"
   ]
  },
  {
   "cell_type": "code",
   "execution_count": null,
   "id": "8d284869",
   "metadata": {},
   "outputs": [],
   "source": [
    "df_clean = df.dropna(subset=['Region', 'License Type', 'State'])"
   ]
  },
  {
   "cell_type": "code",
   "execution_count": null,
   "id": "302e7635",
   "metadata": {},
   "outputs": [],
   "source": [
    "#From https://altair-viz.github.io/gallery/interactive_legend.html\n",
    "import altair as alt\n",
    "alt.data_transformers.disable_max_rows()\n",
    "\n",
    "selection = alt.selection_point(fields=['License Type'], bind='legend')\n",
    "\n",
    "alt.Chart(df_clean).mark_bar().encode(\n",
    "    x=alt.X('Region:N', title='Region'),\n",
    "    y=alt.Y('count():Q', title='Number of Licenses'),\n",
    "    color=alt.Color('License Type:N').scale(scheme='category20b'),\n",
    "    opacity=alt.condition(selection, alt.value(1), alt.value(0.2))\n",
    ").add_params(\n",
    "    selection\n",
    ").properties(\n",
    "    title='License Type Distribution by Region'\n",
    ")"
   ]
  },
  {
   "cell_type": "code",
   "execution_count": null,
   "id": "6644548b",
   "metadata": {},
   "outputs": [],
   "source": [
    "midwest_clean = df_clean[df_clean['Region'] == 'Midwest']\n",
    "\n",
    "grouped = midwest_clean.groupby(['State', 'License Type']).size().reset_index(name='count')\n",
    "\n",
    "top_10_midwest = (grouped.groupby('License Type')['count'].sum().sort_values(ascending=False).head(10).index.tolist())\n",
    "\n",
    "grouped = grouped[grouped['License Type'].isin(top_10_midwest)]\n",
    "\n",
    "state_totals = grouped.groupby('State')['count'].sum().reset_index(name='state_total')\n",
    "\n",
    "grouped = grouped.merge(state_totals, on='State')\n",
    "\n",
    "grouped['percent'] = (grouped['count'] / grouped['state_total']) * 100\n",
    "\n",
    "selection2 = alt.selection_point(fields=['License Type'], bind='legend')\n",
    "\n",
    "alt.Chart(grouped).mark_area().encode(\n",
    "    x=alt.X('State:N', title='Midwest States'),\n",
    "    y=alt.Y('percent:Q', stack='center', title='Percent of Licenses'),\n",
    "    color=alt.Color('License Type:N').scale(scheme='category20b'),\n",
    "    opacity=alt.condition(selection2, alt.value(1), alt.value(0.2))\n",
    ").add_params(\n",
    "    selection2\n",
    ").properties(\n",
    "    title='Top 10 License Types in Midwest States (By % of State total)'\n",
    ")"
   ]
  },
  {
   "cell_type": "code",
   "execution_count": null,
   "id": "4ada3e13",
   "metadata": {},
   "outputs": [],
   "source": []
  }
 ],
 "metadata": {
  "kernelspec": {
   "display_name": "Python 3",
   "language": "python",
   "name": "python3"
  },
  "language_info": {
   "codemirror_mode": {
    "name": "ipython",
    "version": 3
   },
   "file_extension": ".py",
   "mimetype": "text/x-python",
   "name": "python",
   "nbconvert_exporter": "python",
   "pygments_lexer": "ipython3",
   "version": "3.9.6"
  }
 },
 "nbformat": 4,
 "nbformat_minor": 5
}
